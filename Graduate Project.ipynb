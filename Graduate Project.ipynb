{
 "cells": [
  {
   "cell_type": "markdown",
   "metadata": {},
   "source": [
    "Methodology:\n",
    "In order to test this hypothesis, the tangible improvements will be based off of two final markers for the success of the public school program: graduation rates and the standardized test scores of the SAT.  Both are relevant end points for a K-12 education and there are resources for said data.   All the data will be directly drawn from the reliable source: the California Department of Education.  The data will be primarily drawn from three counties as a method of breaking down the study instead of looking at the extremely large state of California as a whole: Los Angeles County, San Diego County, and Orange County.  These three counties hold the largest populations and also diverse populations.  Trends in graduation rate and SAT scores will be the primary method of assessment over whether increases in educational spending by Average Daily Attendance (ADA) do create tangible results proportional to spending. \n",
    "In order to study the levels of graduation by ethnicity as well, 12th year enrollment numbers will be cross checked with graduation numbers within the specific three counties and stratified by ethnicity.  These percentages will be analyzed between the school years of 1998-2015 to show the changes and trends in graduation percentage based on both ethnicity and restricted to the three chosen counties.  By stratifying with ethnicity, this study will also be able to study results based on ethnicity as well as county.  The percentage trends will then be compared to the changes in spending by Average Daily Attendance (ADA) by county and the correlation will be graphed to show if there are indeed proportional tangible graduation changes by county as well as for each ethnicity. \n",
    "  For SAT test scores, each of the three specific county’s changes in average scores of Math, Reading, Writing, and Composite between the years of 1998-2015 will be graphed to show trends.  The trends of test score increases or decreases will then be compared to the trend of county spending by Average Daily Attendance, similar to the comparison between graduation rates and spending by ADA.  There will be no breakdown by ethnicity for SAT scores due to lack of such data and the lower population/higher variation in size of SAT test takers every cycle. \n",
    "\n",
    "\n",
    "\n",
    "Basically: Add up all the different ethnicities per county for enrollment so there should be 7-8 stratas based on ethnicity for each of the 3 counties. Then cross it with the same set up for graduation.  there should be a trend for % of each ethnicity's graduation percentage by year. \n",
    "Cost of attendance will be averages of ADA per school, so you can add it together into a county again, same CDS Code.  Find the rate of increase of budget.  Cross the change in graduation rates by ethnicity with rates of change in budget.  Should be linear correlation.  \n",
    "The SAT Scores can be average by region and then also graphed against rate of increase to educational budget.  \n",
    "\n",
    "\n",
    "\n",
    "LA County CDS Code: 19 \n",
    "San Diego County CDS Code: 37  \n",
    "Orange CDS Code: 30"
   ]
  },
  {
   "cell_type": "code",
   "execution_count": null,
   "metadata": {
    "collapsed": false
   },
   "outputs": [],
   "source": [
    "#install datascience if not already installed (!pip install datascience)\n"
   ]
  },
  {
   "cell_type": "code",
   "execution_count": 4,
   "metadata": {
    "collapsed": true
   },
   "outputs": [],
   "source": [
    "# install libraries for project\n",
    "import numpy as np\n",
    "from datascience import Table\n",
    "from datascience.predicates import are\n",
    "\n",
    "# These lines do some fancy plotting magic.\n",
    "import matplotlib\n",
    "%matplotlib inline\n",
    "import matplotlib.pyplot as plt\n",
    "plt.style.use('fivethirtyeight')\n",
    "import warnings\n",
    "warnings.simplefilter('ignore', FutureWarning)"
   ]
  },
  {
   "cell_type": "code",
   "execution_count": 5,
   "metadata": {
    "collapsed": false
   },
   "outputs": [
    {
     "data": {
      "text/html": [
       "<table border=\"1\" class=\"dataframe\">\n",
       "    <thead>\n",
       "        <tr>\n",
       "            <th>CDS_CODE</th> <th>ETHNIC</th> <th>GR_12</th>\n",
       "        </tr>\n",
       "    </thead>\n",
       "    <tbody>\n",
       "        <tr>\n",
       "            <td>14 digit county, district, and school identifier</td> <td>Ethnicity</td> <td>Students Enrolled in 12th Grade</td>\n",
       "        </tr>\n",
       "    </tbody>\n",
       "</table>"
      ],
      "text/plain": [
       "CDS_CODE                                         | ETHNIC    | GR_12\n",
       "14 digit county, district, and school identifier | Ethnicity | Students Enrolled in 12th Grade"
      ]
     },
     "execution_count": 5,
     "metadata": {},
     "output_type": "execute_result"
    }
   ],
   "source": [
    "#enrollment data and key from California Department of Education\n",
    "enrollmentfull = Table.read_table('9899enrollment.csv')\n",
    "enrollment = enrollmentfull.select(['CDS_CODE','ETHNIC', 'GR_12'])\n",
    "enrollmentkey = Table().with_columns(['CDS_CODE', '14 digit county, district, and school identifier', \n",
    "                                      'ETHNIC','Ethnicity','GR_12',\n",
    "                                      'Students Enrolled in 12th Grade'])\n",
    "enrollmentkey"
   ]
  },
  {
   "cell_type": "code",
   "execution_count": 6,
   "metadata": {
    "collapsed": false
   },
   "outputs": [
    {
     "data": {
      "text/html": [
       "<table border=\"1\" class=\"dataframe\">\n",
       "    <thead>\n",
       "        <tr>\n",
       "            <th>CDS_CODE</th> <th>ETHNIC</th> <th>GR_12</th>\n",
       "        </tr>\n",
       "    </thead>\n",
       "    <tbody>\n",
       "        <tr>\n",
       "            <td>1100170130401</td> <td>1     </td> <td>0    </td>\n",
       "        </tr>\n",
       "    </tbody>\n",
       "        <tr>\n",
       "            <td>1100170130401</td> <td>2     </td> <td>0    </td>\n",
       "        </tr>\n",
       "    </tbody>\n",
       "        <tr>\n",
       "            <td>1100170130401</td> <td>2     </td> <td>17   </td>\n",
       "        </tr>\n",
       "    </tbody>\n",
       "        <tr>\n",
       "            <td>1100170130401</td> <td>4     </td> <td>0    </td>\n",
       "        </tr>\n",
       "    </tbody>\n",
       "        <tr>\n",
       "            <td>1100170130401</td> <td>4     </td> <td>1    </td>\n",
       "        </tr>\n",
       "    </tbody>\n",
       "        <tr>\n",
       "            <td>1100170130401</td> <td>5     </td> <td>6    </td>\n",
       "        </tr>\n",
       "    </tbody>\n",
       "        <tr>\n",
       "            <td>1100170130401</td> <td>5     </td> <td>27   </td>\n",
       "        </tr>\n",
       "    </tbody>\n",
       "        <tr>\n",
       "            <td>1100170130401</td> <td>6     </td> <td>15   </td>\n",
       "        </tr>\n",
       "    </tbody>\n",
       "        <tr>\n",
       "            <td>1100170130401</td> <td>6     </td> <td>77   </td>\n",
       "        </tr>\n",
       "    </tbody>\n",
       "        <tr>\n",
       "            <td>1100170130401</td> <td>7     </td> <td>3    </td>\n",
       "        </tr>\n",
       "    </tbody>\n",
       "</table>\n",
       "<p>... (92726 rows omitted)</p"
      ],
      "text/plain": [
       "CDS_CODE      | ETHNIC | GR_12\n",
       "1100170130401 | 1      | 0\n",
       "1100170130401 | 2      | 0\n",
       "1100170130401 | 2      | 17\n",
       "1100170130401 | 4      | 0\n",
       "1100170130401 | 4      | 1\n",
       "1100170130401 | 5      | 6\n",
       "1100170130401 | 5      | 27\n",
       "1100170130401 | 6      | 15\n",
       "1100170130401 | 6      | 77\n",
       "1100170130401 | 7      | 3\n",
       "... (92726 rows omitted)"
      ]
     },
     "execution_count": 6,
     "metadata": {},
     "output_type": "execute_result"
    }
   ],
   "source": [
    "enrollment"
   ]
  },
  {
   "cell_type": "code",
   "execution_count": 7,
   "metadata": {
    "collapsed": false
   },
   "outputs": [
    {
     "data": {
      "text/html": [
       "<table border=\"1\" class=\"dataframe\">\n",
       "    <thead>\n",
       "        <tr>\n",
       "            <th>CDS_CODE</th> <th>ETHNIC</th> <th>GRADS</th>\n",
       "        </tr>\n",
       "    </thead>\n",
       "    <tbody>\n",
       "        <tr>\n",
       "            <td>14 digit county, district, and school identifier</td> <td>Ethnicity</td> <td>Number of 12th Grade Graduates</td>\n",
       "        </tr>\n",
       "    </tbody>\n",
       "</table>"
      ],
      "text/plain": [
       "CDS_CODE                                         | ETHNIC    | GRADS\n",
       "14 digit county, district, and school identifier | Ethnicity | Number of 12th Grade Graduates"
      ]
     },
     "execution_count": 7,
     "metadata": {},
     "output_type": "execute_result"
    }
   ],
   "source": [
    "#graduation rates and key from California Department of Education\n",
    "graduationfull = Table.read_table('9899graduation.csv')\n",
    "graduation = graduationfull.select(['CDS_CODE', 'ETHNIC', 'GRADS'])\n",
    "graduationkey = Table().with_columns(['CDS_CODE', '14 digit county, district, and school identifier',\n",
    "                                      'ETHNIC','Ethnicity','GRADS',\n",
    "                                      'Number of 12th Grade Graduates'])\n",
    "graduationkey"
   ]
  },
  {
   "cell_type": "code",
   "execution_count": 8,
   "metadata": {
    "collapsed": false
   },
   "outputs": [
    {
     "data": {
      "text/html": [
       "<table border=\"1\" class=\"dataframe\">\n",
       "    <thead>\n",
       "        <tr>\n",
       "            <th>CDS_CODE</th> <th>ETHNIC</th> <th>GRADS</th>\n",
       "        </tr>\n",
       "    </thead>\n",
       "    <tbody>\n",
       "        <tr>\n",
       "            <td>1100170130401</td> <td>2     </td> <td>13   </td>\n",
       "        </tr>\n",
       "    </tbody>\n",
       "        <tr>\n",
       "            <td>1100170130401</td> <td>3     </td> <td>0    </td>\n",
       "        </tr>\n",
       "    </tbody>\n",
       "        <tr>\n",
       "            <td>1100170130401</td> <td>5     </td> <td>6    </td>\n",
       "        </tr>\n",
       "    </tbody>\n",
       "        <tr>\n",
       "            <td>1100170130401</td> <td>7     </td> <td>0    </td>\n",
       "        </tr>\n",
       "    </tbody>\n",
       "        <tr>\n",
       "            <td>1100170130401</td> <td>6     </td> <td>29   </td>\n",
       "        </tr>\n",
       "    </tbody>\n",
       "        <tr>\n",
       "            <td>1100170130401</td> <td>7     </td> <td>6    </td>\n",
       "        </tr>\n",
       "    </tbody>\n",
       "        <tr>\n",
       "            <td>1100170130401</td> <td>6     </td> <td>0    </td>\n",
       "        </tr>\n",
       "    </tbody>\n",
       "        <tr>\n",
       "            <td>1100170130401</td> <td>4     </td> <td>1    </td>\n",
       "        </tr>\n",
       "    </tbody>\n",
       "        <tr>\n",
       "            <td>1100170130401</td> <td>3     </td> <td>0    </td>\n",
       "        </tr>\n",
       "    </tbody>\n",
       "        <tr>\n",
       "            <td>1100170130401</td> <td>5     </td> <td>0    </td>\n",
       "        </tr>\n",
       "    </tbody>\n",
       "</table>\n",
       "<p>... (97173 rows omitted)</p"
      ],
      "text/plain": [
       "CDS_CODE      | ETHNIC | GRADS\n",
       "1100170130401 | 2      | 13\n",
       "1100170130401 | 3      | 0\n",
       "1100170130401 | 5      | 6\n",
       "1100170130401 | 7      | 0\n",
       "1100170130401 | 6      | 29\n",
       "1100170130401 | 7      | 6\n",
       "1100170130401 | 6      | 0\n",
       "1100170130401 | 4      | 1\n",
       "1100170130401 | 3      | 0\n",
       "1100170130401 | 5      | 0\n",
       "... (97173 rows omitted)"
      ]
     },
     "execution_count": 8,
     "metadata": {},
     "output_type": "execute_result"
    }
   ],
   "source": [
    "graduation"
   ]
  },
  {
   "cell_type": "code",
   "execution_count": 9,
   "metadata": {
    "collapsed": false
   },
   "outputs": [
    {
     "data": {
      "text/html": [
       "<table border=\"1\" class=\"dataframe\">\n",
       "    <thead>\n",
       "        <tr>\n",
       "            <th>CO</th> <th>DISTRICT</th> <th>LEA ID</th> <th>Expenditures (EDP 365)</th> <th>ADA</th> <th>Avg Cost per ADA</th>\n",
       "        </tr>\n",
       "    </thead>\n",
       "    <tbody>\n",
       "        <tr>\n",
       "            <td>Country Code</td> <td>District</td> <td>Local Educational Agency Code</td> <td>Expenditures in one year (USD)</td> <td>Average Daily Attendance</td> <td>Average Cost per Average Daily Attendence</td>\n",
       "        </tr>\n",
       "    </tbody>\n",
       "</table>"
      ],
      "text/plain": [
       "CO           | DISTRICT | LEA ID                        | Expenditures (EDP 365)         | ADA                      | Avg Cost per ADA\n",
       "Country Code | District | Local Educational Agency Code | Expenditures in one year (USD) | Average Daily Attendance | Average Cost per Average Daily Attendence"
      ]
     },
     "execution_count": 9,
     "metadata": {},
     "output_type": "execute_result"
    }
   ],
   "source": [
    "#Expenditures and key from California Department of Education\n",
    "costfull = Table.read_table('9899costofed.csv')\n",
    "cost = costfull.drop(6)\n",
    "costkey = Table().with_columns(['CO', 'Country Code','DISTRICT', 'District', 'LEA ID', 'Local Educational Agency Code',\n",
    "                               'Expenditures (EDP 365)', 'Expenditures in one year (USD)', 'ADA', \n",
    "                                'Average Daily Attendance', 'Avg Cost per ADA', \n",
    "                                'Average Cost per Average Daily Attendence'])\n",
    "costkey"
   ]
  },
  {
   "cell_type": "code",
   "execution_count": 10,
   "metadata": {
    "collapsed": false
   },
   "outputs": [
    {
     "data": {
      "text/html": [
       "<table border=\"1\" class=\"dataframe\">\n",
       "    <thead>\n",
       "        <tr>\n",
       "            <th>CO</th> <th>DISTRICT</th> <th>LEA ID</th> <th> Expenditures \r",
       "(EDP 365) </th> <th> ADA </th> <th> Avg Cost per ADA </th>\n",
       "        </tr>\n",
       "    </thead>\n",
       "    <tbody>\n",
       "        <tr>\n",
       "            <td>1   </td> <td>Alameda City Unified          </td> <td>61119 </td> <td> 56,313,182              </td> <td> 10,530 </td> <td> 5,348            </td>\n",
       "        </tr>\n",
       "    </tbody>\n",
       "        <tr>\n",
       "            <td>1   </td> <td>Albany City Unified           </td> <td>61127 </td> <td> 16,324,798              </td> <td> 2,827  </td> <td> 5,775            </td>\n",
       "        </tr>\n",
       "    </tbody>\n",
       "        <tr>\n",
       "            <td>1   </td> <td>Berkeley Unified              </td> <td>61143 </td> <td> 64,787,152              </td> <td> 9,102  </td> <td> 7,118            </td>\n",
       "        </tr>\n",
       "    </tbody>\n",
       "        <tr>\n",
       "            <td>1   </td> <td>Castro Valley Unified         </td> <td>61150 </td> <td> 38,588,405              </td> <td> 7,603  </td> <td> 5,075            </td>\n",
       "        </tr>\n",
       "    </tbody>\n",
       "        <tr>\n",
       "            <td>1   </td> <td>Dublin Unified                </td> <td>75093 </td> <td> 22,121,134              </td> <td> 3,752  </td> <td> 5,896            </td>\n",
       "        </tr>\n",
       "    </tbody>\n",
       "        <tr>\n",
       "            <td>1   </td> <td>Emery Unified                 </td> <td>61168 </td> <td> 5,942,114               </td> <td> 935    </td> <td> 6,357            </td>\n",
       "        </tr>\n",
       "    </tbody>\n",
       "        <tr>\n",
       "            <td>1   </td> <td>Fremont Unified               </td> <td>61176 </td> <td> 148,687,158             </td> <td> 30,100 </td> <td> 4,940            </td>\n",
       "        </tr>\n",
       "    </tbody>\n",
       "        <tr>\n",
       "            <td>1   </td> <td>Hayward Unified               </td> <td>61192 </td> <td> 115,368,353             </td> <td> 21,706 </td> <td> 5,315            </td>\n",
       "        </tr>\n",
       "    </tbody>\n",
       "        <tr>\n",
       "            <td>1   </td> <td>Livermore Valley Joint Unified</td> <td>61200 </td> <td> 65,361,560              </td> <td> 12,908 </td> <td> 5,063            </td>\n",
       "        </tr>\n",
       "    </tbody>\n",
       "        <tr>\n",
       "            <td>1   </td> <td>Mountain House Elementary     </td> <td>61218 </td> <td> 263,704                 </td> <td> 49     </td> <td> 5,352            </td>\n",
       "        </tr>\n",
       "    </tbody>\n",
       "</table>\n",
       "<p>... (974 rows omitted)</p"
      ],
      "text/plain": [
       "CO   | DISTRICT                       | LEA ID |  Expenditures \n",
       "(EDP 365)  |  ADA     |  Avg Cost per ADA\n",
       "1    | Alameda City Unified           | 61119  |  56,313,182               |  10,530  |  5,348\n",
       "1    | Albany City Unified            | 61127  |  16,324,798               |  2,827   |  5,775\n",
       "1    | Berkeley Unified               | 61143  |  64,787,152               |  9,102   |  7,118\n",
       "1    | Castro Valley Unified          | 61150  |  38,588,405               |  7,603   |  5,075\n",
       "1    | Dublin Unified                 | 75093  |  22,121,134               |  3,752   |  5,896\n",
       "1    | Emery Unified                  | 61168  |  5,942,114                |  935     |  6,357\n",
       "1    | Fremont Unified                | 61176  |  148,687,158              |  30,100  |  4,940\n",
       "1    | Hayward Unified                | 61192  |  115,368,353              |  21,706  |  5,315\n",
       "1    | Livermore Valley Joint Unified | 61200  |  65,361,560               |  12,908  |  5,063\n",
       "1    | Mountain House Elementary      | 61218  |  263,704                  |  49      |  5,352\n",
       "... (974 rows omitted)"
      ]
     },
     "execution_count": 10,
     "metadata": {},
     "output_type": "execute_result"
    }
   ],
   "source": [
    "cost"
   ]
  },
  {
   "cell_type": "code",
   "execution_count": 11,
   "metadata": {
    "collapsed": false,
    "scrolled": false
   },
   "outputs": [
    {
     "data": {
      "text/html": [
       "<table border=\"1\" class=\"dataframe\">\n",
       "    <thead>\n",
       "        <tr>\n",
       "            <th>County\r",
       "Number</th> <th>District\r",
       "Number</th> <th>School\r",
       "Number</th> <th>District Name</th> <th>Grade 12\r",
       "Enrollment</th> <th>Percent\r",
       "of\r",
       "Takers</th> <th>Average\r",
       "Total\r",
       "Score</th>\n",
       "        </tr>\n",
       "    </thead>\n",
       "    <tbody>\n",
       "        <tr>\n",
       "            <td>0            </td> <td>0              </td> <td>0            </td> <td>STATEWIDE                     </td> <td>334,852            </td> <td>36.5             </td> <td>1005               </td>\n",
       "        </tr>\n",
       "    </tbody>\n",
       "        <tr>\n",
       "            <td>1            </td> <td>0              </td> <td>0            </td> <td>COUNTY SUPT.                  </td> <td>11,809             </td> <td>46.7             </td> <td>1015               </td>\n",
       "        </tr>\n",
       "    </tbody>\n",
       "        <tr>\n",
       "            <td>1            </td> <td>10017          </td> <td>0            </td> <td>ALAMEDA CO. OFFICE OF EDUCATIO</td> <td>299                </td> <td>0                </td> <td>0                  </td>\n",
       "        </tr>\n",
       "    </tbody>\n",
       "        <tr>\n",
       "            <td>1            </td> <td>10017          </td> <td>130401       </td> <td>ALAMEDA CO. OFFICE OF EDUCATIO</td> <td>224                </td> <td>0                </td> <td>0                  </td>\n",
       "        </tr>\n",
       "    </tbody>\n",
       "        <tr>\n",
       "            <td>1            </td> <td>10017          </td> <td>130419       </td> <td>ALAMEDA CO. OFFICE OF EDUCATIO</td> <td>8                  </td> <td>0                </td> <td>0                  </td>\n",
       "        </tr>\n",
       "    </tbody>\n",
       "        <tr>\n",
       "            <td>1            </td> <td>10017          </td> <td>130427       </td> <td>ALAMEDA CO. OFFICE OF EDUCATIO</td> <td>67                 </td> <td>0                </td> <td>0                  </td>\n",
       "        </tr>\n",
       "    </tbody>\n",
       "        <tr>\n",
       "            <td>1            </td> <td>61119          </td> <td>0            </td> <td>ALAMEDA CITY UNIFIED          </td> <td>731                </td> <td>49.9             </td> <td>979                </td>\n",
       "        </tr>\n",
       "    </tbody>\n",
       "        <tr>\n",
       "            <td>1            </td> <td>61119          </td> <td>130229       </td> <td>ALAMEDA CITY UNIFIED          </td> <td>372                </td> <td>66.1             </td> <td>1033               </td>\n",
       "        </tr>\n",
       "    </tbody>\n",
       "        <tr>\n",
       "            <td>1            </td> <td>61119          </td> <td>132878       </td> <td>ALAMEDA CITY UNIFIED          </td> <td>240                </td> <td>49.6             </td> <td>868                </td>\n",
       "        </tr>\n",
       "    </tbody>\n",
       "        <tr>\n",
       "            <td>1            </td> <td>61119          </td> <td>134304       </td> <td>ALAMEDA CITY UNIFIED          </td> <td>119                </td> <td>0                </td> <td>0                  </td>\n",
       "        </tr>\n",
       "    </tbody>\n",
       "</table>\n",
       "<p>... (2328 rows omitted)</p"
      ],
      "text/plain": [
       "County\n",
       "Number | District\n",
       "Number | School\n",
       "Number | District Name                  | Grade 12\n",
       "Enrollment | Percent\n",
       "of\n",
       "Takers | Average\n",
       "Total\n",
       "Score\n",
       "0             | 0               | 0             | STATEWIDE                      | 334,852             | 36.5              | 1005\n",
       "1             | 0               | 0             | COUNTY SUPT.                   | 11,809              | 46.7              | 1015\n",
       "1             | 10017           | 0             | ALAMEDA CO. OFFICE OF EDUCATIO | 299                 | 0                 | 0\n",
       "1             | 10017           | 130401        | ALAMEDA CO. OFFICE OF EDUCATIO | 224                 | 0                 | 0\n",
       "1             | 10017           | 130419        | ALAMEDA CO. OFFICE OF EDUCATIO | 8                   | 0                 | 0\n",
       "1             | 10017           | 130427        | ALAMEDA CO. OFFICE OF EDUCATIO | 67                  | 0                 | 0\n",
       "1             | 61119           | 0             | ALAMEDA CITY UNIFIED           | 731                 | 49.9              | 979\n",
       "1             | 61119           | 130229        | ALAMEDA CITY UNIFIED           | 372                 | 66.1              | 1033\n",
       "1             | 61119           | 132878        | ALAMEDA CITY UNIFIED           | 240                 | 49.6              | 868\n",
       "1             | 61119           | 134304        | ALAMEDA CITY UNIFIED           | 119                 | 0                 | 0\n",
       "... (2328 rows omitted)"
      ]
     },
     "execution_count": 11,
     "metadata": {},
     "output_type": "execute_result"
    }
   ],
   "source": [
    "#SAT Scores from California Department of Education\n",
    "satfull = Table.read_table('9899sat.csv')\n",
    "sat = satfull.drop([4,6,8,9,11,12])\n",
    "#no key required (self explainatory)\n",
    "sat"
   ]
  },
  {
   "cell_type": "code",
   "execution_count": 12,
   "metadata": {
    "collapsed": true
   },
   "outputs": [],
   "source": [
    "#Objective: Combine enrollment, graduation, cost, and sat scores tables into one. Focus on 3 countys in particular: \n",
    "#LA County(CDS Code = 19), San Diego County (CDS Code = 37), Orange Country (CDS Code = 30). \n"
   ]
  },
  {
   "cell_type": "code",
   "execution_count": 13,
   "metadata": {
    "collapsed": false
   },
   "outputs": [
    {
     "data": {
      "text/html": [
       "<table border=\"1\" class=\"dataframe\">\n",
       "    <thead>\n",
       "        <tr>\n",
       "            <th>CDS_CODE</th> <th>ETHNIC</th> <th>GR_12</th>\n",
       "        </tr>\n",
       "    </thead>\n",
       "    <tbody>\n",
       "        <tr>\n",
       "            <td>1100170130401</td> <td>1     </td> <td>0    </td>\n",
       "        </tr>\n",
       "    </tbody>\n",
       "        <tr>\n",
       "            <td>1100170130401</td> <td>2     </td> <td>0    </td>\n",
       "        </tr>\n",
       "    </tbody>\n",
       "        <tr>\n",
       "            <td>1100170130401</td> <td>2     </td> <td>17   </td>\n",
       "        </tr>\n",
       "    </tbody>\n",
       "        <tr>\n",
       "            <td>1100170130401</td> <td>4     </td> <td>0    </td>\n",
       "        </tr>\n",
       "    </tbody>\n",
       "        <tr>\n",
       "            <td>1100170130401</td> <td>4     </td> <td>1    </td>\n",
       "        </tr>\n",
       "    </tbody>\n",
       "        <tr>\n",
       "            <td>1100170130401</td> <td>5     </td> <td>6    </td>\n",
       "        </tr>\n",
       "    </tbody>\n",
       "        <tr>\n",
       "            <td>1100170130401</td> <td>5     </td> <td>27   </td>\n",
       "        </tr>\n",
       "    </tbody>\n",
       "        <tr>\n",
       "            <td>1100170130401</td> <td>6     </td> <td>15   </td>\n",
       "        </tr>\n",
       "    </tbody>\n",
       "        <tr>\n",
       "            <td>1100170130401</td> <td>6     </td> <td>77   </td>\n",
       "        </tr>\n",
       "    </tbody>\n",
       "        <tr>\n",
       "            <td>1100170130401</td> <td>7     </td> <td>3    </td>\n",
       "        </tr>\n",
       "    </tbody>\n",
       "</table>\n",
       "<p>... (92726 rows omitted)</p"
      ],
      "text/plain": [
       "CDS_CODE      | ETHNIC | GR_12\n",
       "1100170130401 | 1      | 0\n",
       "1100170130401 | 2      | 0\n",
       "1100170130401 | 2      | 17\n",
       "1100170130401 | 4      | 0\n",
       "1100170130401 | 4      | 1\n",
       "1100170130401 | 5      | 6\n",
       "1100170130401 | 5      | 27\n",
       "1100170130401 | 6      | 15\n",
       "1100170130401 | 6      | 77\n",
       "1100170130401 | 7      | 3\n",
       "... (92726 rows omitted)"
      ]
     },
     "execution_count": 13,
     "metadata": {},
     "output_type": "execute_result"
    }
   ],
   "source": [
    "enrollment\n",
    "#first two digits identify the county, next 5 the district, final 7 identify the schoo"
   ]
  },
  {
   "cell_type": "code",
   "execution_count": 14,
   "metadata": {
    "collapsed": false
   },
   "outputs": [
    {
     "data": {
      "text/html": [
       "<table border=\"1\" class=\"dataframe\">\n",
       "    <thead>\n",
       "        <tr>\n",
       "            <th>CDS_CODE</th> <th>ETHNIC</th> <th>GR_12</th> <th>CDS_Code_by_County</th>\n",
       "        </tr>\n",
       "    </thead>\n",
       "    <tbody>\n",
       "        <tr>\n",
       "            <td>1100170130401</td> <td>1     </td> <td>0    </td> <td>1                 </td>\n",
       "        </tr>\n",
       "    </tbody>\n",
       "        <tr>\n",
       "            <td>1100170130401</td> <td>2     </td> <td>0    </td> <td>1                 </td>\n",
       "        </tr>\n",
       "    </tbody>\n",
       "        <tr>\n",
       "            <td>1100170130401</td> <td>2     </td> <td>17   </td> <td>1                 </td>\n",
       "        </tr>\n",
       "    </tbody>\n",
       "        <tr>\n",
       "            <td>1100170130401</td> <td>4     </td> <td>0    </td> <td>1                 </td>\n",
       "        </tr>\n",
       "    </tbody>\n",
       "        <tr>\n",
       "            <td>1100170130401</td> <td>4     </td> <td>1    </td> <td>1                 </td>\n",
       "        </tr>\n",
       "    </tbody>\n",
       "        <tr>\n",
       "            <td>1100170130401</td> <td>5     </td> <td>6    </td> <td>1                 </td>\n",
       "        </tr>\n",
       "    </tbody>\n",
       "        <tr>\n",
       "            <td>1100170130401</td> <td>5     </td> <td>27   </td> <td>1                 </td>\n",
       "        </tr>\n",
       "    </tbody>\n",
       "        <tr>\n",
       "            <td>1100170130401</td> <td>6     </td> <td>15   </td> <td>1                 </td>\n",
       "        </tr>\n",
       "    </tbody>\n",
       "        <tr>\n",
       "            <td>1100170130401</td> <td>6     </td> <td>77   </td> <td>1                 </td>\n",
       "        </tr>\n",
       "    </tbody>\n",
       "        <tr>\n",
       "            <td>1100170130401</td> <td>7     </td> <td>3    </td> <td>1                 </td>\n",
       "        </tr>\n",
       "    </tbody>\n",
       "</table>\n",
       "<p>... (92726 rows omitted)</p"
      ],
      "text/plain": [
       "CDS_CODE      | ETHNIC | GR_12 | CDS_Code_by_County\n",
       "1100170130401 | 1      | 0     | 1\n",
       "1100170130401 | 2      | 0     | 1\n",
       "1100170130401 | 2      | 17    | 1\n",
       "1100170130401 | 4      | 0     | 1\n",
       "1100170130401 | 4      | 1     | 1\n",
       "1100170130401 | 5      | 6     | 1\n",
       "1100170130401 | 5      | 27    | 1\n",
       "1100170130401 | 6      | 15    | 1\n",
       "1100170130401 | 6      | 77    | 1\n",
       "1100170130401 | 7      | 3     | 1\n",
       "... (92726 rows omitted)"
      ]
     },
     "execution_count": 14,
     "metadata": {},
     "output_type": "execute_result"
    }
   ],
   "source": [
    "def first_two(table, column_num):\n",
    "    x = []\n",
    "    for i in np.arange(table.num_rows):\n",
    "        y = int(str(table.column(column_num).item(i))[:-12])\n",
    "        x.append(y)\n",
    "    return (x)\n",
    "\n",
    "enrollment.append_column('CDS_Code_by_County',first_two(enrollment, 0))\n",
    "enrollment"
   ]
  },
  {
   "cell_type": "code",
   "execution_count": 15,
   "metadata": {
    "collapsed": false
   },
   "outputs": [
    {
     "data": {
      "text/plain": [
       "Row(CDS_CODE=10620006005748, ETHNIC=7, GR_12=0, CDS_Code_by_County=10)"
      ]
     },
     "execution_count": 15,
     "metadata": {},
     "output_type": "execute_result"
    }
   ],
   "source": [
    "#check\n",
    "enrollment.row(9000)"
   ]
  },
  {
   "cell_type": "code",
   "execution_count": 1,
   "metadata": {
    "collapsed": false
   },
   "outputs": [
    {
     "ename": "NameError",
     "evalue": "name 'enrollment' is not defined",
     "output_type": "error",
     "traceback": [
      "\u001b[0;31m---------------------------------------------------------------------------\u001b[0m",
      "\u001b[0;31mNameError\u001b[0m                                 Traceback (most recent call last)",
      "\u001b[0;32m<ipython-input-1-0cb3a71f0a4e>\u001b[0m in \u001b[0;36m<module>\u001b[0;34m()\u001b[0m\n\u001b[0;32m----> 1\u001b[0;31m \u001b[0menrollment\u001b[0m\u001b[0;34m.\u001b[0m\u001b[0mpivot\u001b[0m\u001b[0;34m(\u001b[0m\u001b[0;34m'ETHNIC'\u001b[0m\u001b[0;34m,\u001b[0m \u001b[0;34m'CDS_Code_by_County'\u001b[0m\u001b[0;34m)\u001b[0m\u001b[0;34m\u001b[0m\u001b[0m\n\u001b[0m",
      "\u001b[0;31mNameError\u001b[0m: name 'enrollment' is not defined"
     ]
    }
   ],
   "source": [
    "enrollment.pivot('ETHNIC', 'CDS_Code_by_County')"
   ]
  },
  {
   "cell_type": "code",
   "execution_count": null,
   "metadata": {
    "collapsed": true
   },
   "outputs": [],
   "source": []
  }
 ],
 "metadata": {
  "kernelspec": {
   "display_name": "Python 3",
   "language": "python",
   "name": "python3"
  },
  "language_info": {
   "codemirror_mode": {
    "name": "ipython",
    "version": 3
   },
   "file_extension": ".py",
   "mimetype": "text/x-python",
   "name": "python",
   "nbconvert_exporter": "python",
   "pygments_lexer": "ipython3",
   "version": "3.5.0"
  }
 },
 "nbformat": 4,
 "nbformat_minor": 0
}
